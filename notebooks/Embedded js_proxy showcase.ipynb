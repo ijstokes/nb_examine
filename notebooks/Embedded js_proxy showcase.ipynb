{
 "cells": [
  {
   "cell_type": "markdown",
   "metadata": {},
   "source": [
    "# Embedded js_proxy showcase\n",
    "\n",
    "[For the impatient, please scroll down to cell 4 and rotate the 3D teapot.]\n",
    "\n",
    "The `js_proxy` framework provides a relatively simple\n",
    "mechanism for using functionality implemented by javascript\n",
    "libraries inside an IPython notebook without having\n",
    "to write any javascript in many cases.  The module also has\n",
    "convenience facilities that are generally useful when creating\n",
    "javascript based visualizations.\n",
    "\n",
    "The `js_proxy` framework can be used in two modes:\n",
    "\n",
    "- interactive widget mode, or\n",
    "- embedded HTML mode.\n",
    "\n",
    "This notebook showcases the use of `js_proxy` in embedded\n",
    "mode.  Please see [the js_proxy examples](js_proxy%20example.ipynb)\n",
    "for a more general discussion of the `js_proxy` programming\n",
    "interface.\n",
    "\n",
    "## Interactive widget js_proxy mode\n",
    "\n",
    "The interactive widget mode is decribed in\n",
    "[the js_proxy examples](js_proxy%20example.ipynb)\n",
    "notebook.\n",
    "\n",
    "As the name suggests interactive widgets\n",
    "can communicate back and forth from the user/browser via\n",
    "Javascript to the Python interpreter to implement\n",
    "complex user interaction.\n",
    "\n",
    "However, if user interactions that communicate\n",
    "with the Python interpreter are not required\n",
    "the interactive widget framework has the following\n",
    "disadvantages\n",
    "\n",
    "- visualizations created by the widgets do not\n",
    "persists when the notebook is saved.\n",
    "\n",
    "- the widget does not appear in \"offline\" viewing\n",
    "such as via nbviewer.\n",
    "\n",
    "## Embedded HTML js_proxy mode\n",
    "\n",
    "The embedded mode allows visualizations and javascript-only\n",
    "interactivity to persist when the notebook is saved\n",
    "or when the notebook is viewed \"offline\".\n",
    "The embedded mode does not support interactions that\n",
    "communicate with the Python interpreter, however.\n",
    "\n",
    "## Using `js_proxy` in embedded mode (SceneJS example)\n",
    "\n",
    "To create a visualization using `js_proxy` in embedded mode\n",
    "you typically need to do the following.\n",
    "\n",
    "### Load required python imports"
   ]
  },
  {
   "cell_type": "code",
   "execution_count": 1,
   "metadata": {
    "collapsed": true
   },
   "outputs": [],
   "source": [
    "# allow import without install\n",
    "import sys\n",
    "if \"..\" not in sys.path:\n",
    "    sys.path.append(\"..\")\n",
    "\n",
    "from jp_gene_viz import js_proxy"
   ]
  },
  {
   "cell_type": "markdown",
   "metadata": {},
   "source": [
    "### Load any javascript libraries you will use\n",
    "\n",
    "Here we load `SceneJS` which is a library for 3D visualization and animations."
   ]
  },
  {
   "cell_type": "code",
   "execution_count": 2,
   "metadata": {
    "collapsed": false
   },
   "outputs": [
    {
     "data": {
      "text/html": [
       "\n",
       "<script src=\"http://scenejs.org/api/latest/scenejs.min.js\"></script>\n"
      ],
      "text/plain": [
       "<IPython.core.display.HTML object>"
      ]
     },
     "metadata": {},
     "output_type": "display_data"
    }
   ],
   "source": [
    "from IPython.display import display, HTML\n",
    "load_Scenejs = \"\"\"\n",
    "<script src=\"http://scenejs.org/api/latest/scenejs.min.js\"></script>\n",
    "\"\"\"\n",
    "display(HTML(load_Scenejs))"
   ]
  },
  {
   "cell_type": "markdown",
   "metadata": {},
   "source": [
    "### Create the \"widget\" and load it's command buffer\n",
    "\n",
    "In this case we transliterate one of the \n",
    "[the SceneJS examples](http://scenejs.org/examples/index.html#scenegraph_firstExample).\n",
    "The notation used in the `js_proxy` context is similar to the Javascript provided in the\n",
    "examples, except that the Python dictionary keys must be explicitly formatted as strings."
   ]
  },
  {
   "cell_type": "code",
   "execution_count": 3,
   "metadata": {
    "collapsed": false
   },
   "outputs": [
    {
     "data": {
      "text/plain": [
       "element\n",
       "[\"scene\"]"
      ]
     },
     "execution_count": 3,
     "metadata": {},
     "output_type": "execute_result"
    }
   ],
   "source": [
    "w = js_proxy.ProxyWidget()\n",
    "elt = w.element()\n",
    "window = w.window()\n",
    "SceneJS= window.SceneJS\n",
    "w(elt.append(\"\"\"<canvas id=\"myCanvas002\" width=\"400px\" height=\"400px\"></canvas>\"\"\"))\n",
    "w(SceneJS.setConfigs({\n",
    "        \"pluginPath\":\"http://scenejs.org/api/latest/plugins\"\n",
    "    }))\n",
    "x, y, z, r, g, b = list(\"xyzrgb\")\n",
    "w.save(\"scene\", SceneJS.createScene({\n",
    "        \"canvasId\": \"myCanvas002\",\n",
    "        \"nodes\":[\n",
    "            #// Mouse-orbited camera\n",
    "            {\n",
    "                \"type\":\"cameras/orbit\",\n",
    "                \"yaw\":40,\n",
    "                \"pitch\":-20,\n",
    "                \"zoom\":10,\n",
    "                \"zoomSensitivity\":1.0,\n",
    "                \"eye\":{ x:0, y:0, z:10 },\n",
    "                \"look\":{ x:0, y:0, z:0 },\n",
    "                \"nodes\":[\n",
    "                    #// Blue material\n",
    "                    {\n",
    "                        \"type\":\"material\",\n",
    "                        \"color\":{ r:0.3, g:0.3, b:1.0 },\n",
    "                        \"nodes\":[\n",
    "                            #// Teapot primitive\n",
    "                            {\n",
    "                                \"type\":\"geometry/teapot\"\n",
    "                            }\n",
    "                        ]\n",
    "                    }\n",
    "                ]\n",
    "            }\n",
    "        ]\n",
    "    }))\n",
    "# DO NOT FLUSH OR DISPLAY!\n",
    "#w.flush()\n",
    "#display(w)"
   ]
  },
  {
   "cell_type": "markdown",
   "metadata": {},
   "source": [
    "### Embed the widget as HTML\n",
    "\n",
    "Once the commands for initializing the widget have been loaded\n",
    "into the command buffer, use the `embed` method to embed the widget\n",
    "into the page.  The `flush` and `display` methods are for the\n",
    "dynamic widget mode, and are not compatible with the embedded mode.\n",
    "\n",
    "It may also be important to make sure the required libraries have\n",
    "finished loading before the embedded visualization attempts to\n",
    "use functionality from the libraries.\n",
    "\n",
    "In this case with `await=[\"SceneJS\"]`\n",
    "we specify that the widget should make sure the `SceneJS`\n",
    "global module has loaded before initializing.  This is important when the\n",
    "notebook is loaded offline because some libraries (like SceneJS) load\n",
    "asynchronously and may not be immediately available."
   ]
  },
  {
   "cell_type": "code",
   "execution_count": 4,
   "metadata": {
    "collapsed": false
   },
   "outputs": [
    {
     "data": {
      "text/html": [
       "\n",
       "<div id=\"jupyter_proxy_widget1\"></div>\n",
       "\n",
       "<script>\n",
       "(function () {\n",
       "    // Debug mode for static widget display\n",
       "debugger;\n",
       "    var do_actions = function () {\n",
       "        var element = $(\"#jupyter_proxy_widget1\");\n",
       "        element\n",
       "        [\"append\"]\n",
       "        (\"<canvas id=\\\"myCanvas002\\\" width=\\\"400px\\\" height=\\\"400px\\\"></canvas>\");\n",
       "        window\n",
       "        [\"SceneJS\"]\n",
       "        [\"setConfigs\"]\n",
       "        ({\n",
       "                \"pluginPath\": \"http://scenejs.org/api/latest/plugins\"\n",
       "            });\n",
       "        (function () {\n",
       "            var target = element;\n",
       "            var attribute = \"scene\";\n",
       "            var value = window\n",
       "                [\"SceneJS\"]\n",
       "                [\"createScene\"]\n",
       "                ({\n",
       "                        \"nodes\": [\n",
       "                            {\n",
       "                                \"nodes\": [\n",
       "                                    {\n",
       "                                        \"color\": {\n",
       "                                            \"r\": 0.3, \n",
       "                                            \"b\": 1.0, \n",
       "                                            \"g\": 0.3\n",
       "                                        }, \n",
       "                                        \"nodes\": [\n",
       "                                            {\n",
       "                                                \"type\": \"geometry/teapot\"\n",
       "                                            }\n",
       "                                        ], \n",
       "                                        \"type\": \"material\"\n",
       "                                    }\n",
       "                                ], \n",
       "                                \"eye\": {\n",
       "                                    \"y\": 0, \n",
       "                                    \"x\": 0, \n",
       "                                    \"z\": 10\n",
       "                                }, \n",
       "                                \"look\": {\n",
       "                                    \"y\": 0, \n",
       "                                    \"x\": 0, \n",
       "                                    \"z\": 0\n",
       "                                }, \n",
       "                                \"pitch\": -20, \n",
       "                                \"yaw\": 40, \n",
       "                                \"type\": \"cameras/orbit\", \n",
       "                                \"zoom\": 10, \n",
       "                                \"zoomSensitivity\": 1.0\n",
       "                            }\n",
       "                        ], \n",
       "                        \"canvasId\": \"myCanvas002\"\n",
       "                    });\n",
       "            target[attribute] = value;\n",
       "            return target;\n",
       "        })();\n",
       "    };\n",
       "    var wait_for_libraries = function () {\n",
       "        var names = [\"SceneJS\"];\n",
       "        for (var i=0; i<names.length; i++) {\n",
       "            var library = window[names[i]];\n",
       "            if ((typeof library) == \"undefined\") {\n",
       "                return window.setTimeout(wait_for_libraries, 500);\n",
       "            }\n",
       "        }\n",
       "        return do_actions();\n",
       "    };\n",
       "    wait_for_libraries();\n",
       "})();\n",
       "</script>\n"
      ],
      "text/plain": [
       "<IPython.core.display.HTML object>"
      ]
     },
     "metadata": {},
     "output_type": "display_data"
    }
   ],
   "source": [
    "w.embed(True, await=[\"SceneJS\"])"
   ]
  },
  {
   "cell_type": "markdown",
   "metadata": {},
   "source": [
    "### Enjoy the widget\n",
    "\n",
    "In this case you should see a 3D teapot displayed above.\n",
    "The scene is attached to \"orbit\" controls -- mousedown/drag\n",
    "to rotate the scene.\n",
    "\n",
    "### Discussion\n",
    "\n",
    "The `embed` method creates a block of static HTML which contains\n",
    "a block of static javascript which is written into the notebook.\n",
    "The `flush`/`display` methods by contrast create dynamic widgets\n",
    "using \"live\" Javascript logic which are not written into the notebook document.\n",
    "The \"live\" objects are configured to communicate using the\n",
    "proxy communication mechanism with the IPython interpreter, but\n",
    "the \"static\" embedding cannot communicate with the IPython interpreter.\n",
    "For this reason it doesn't make sense to use the `js_proxy` `callback`\n",
    "mechanism in the embedded context.\n",
    "\n",
    "For debugging and general information we can examine the HTML\n",
    "embedded into the notebook, like so:"
   ]
  },
  {
   "cell_type": "code",
   "execution_count": 6,
   "metadata": {
    "collapsed": false
   },
   "outputs": [
    {
     "name": "stdout",
     "output_type": "stream",
     "text": [
      "\n",
      "<div id=\"jupyter_proxy_widget3\"></div>\n",
      "\n",
      "<script>\n",
      "(function () {\n",
      "    // Initialize static widget display with no debugging.\n",
      "    var do_actions = function () {\n",
      "        var element = $(\"#jupyter_proxy_widget3\");\n",
      "        element\n",
      "        [\"append\"]\n",
      "        (\"<canvas id=\\\"myCanvas002\\\" width=\\\"400px\\\" height=\\\"400px\\\"></canvas>\");\n",
      "        window\n",
      "        [\"SceneJS\"]\n",
      "        [\"setConfigs\"]\n",
      "        ({\n",
      "                \"pluginPath\": \"http://scenejs.org/api/latest/plugins\"\n",
      "            });\n",
      "        (function () {\n",
      "            var target = element;\n",
      "            var attribute = \"scene\";\n",
      "            var value = window\n",
      "                [\"SceneJS\"]\n",
      "                [\"createScene\"]\n",
      "                ({\n",
      "                        \"nodes\": [\n",
      "                            {\n",
      "                                \"nodes\": [\n",
      "                                    {\n",
      "                                        \"color\": {\n",
      "                                            \"r\": 0.3, \n",
      "                                            \"b\": 1.0, \n",
      "                                            \"g\": 0.3\n",
      "                                        }, \n",
      "                                        \"nodes\": [\n",
      "                                            {\n",
      "                                                \"type\": \"geometry/teapot\"\n",
      "                                            }\n",
      "                                        ], \n",
      "                                        \"type\": \"material\"\n",
      "                                    }\n",
      "                                ], \n",
      "                                \"eye\": {\n",
      "                                    \"y\": 0, \n",
      "                                    \"x\": 0, \n",
      "                                    \"z\": 10\n",
      "                                }, \n",
      "                                \"look\": {\n",
      "                                    \"y\": 0, \n",
      "                                    \"x\": 0, \n",
      "                                    \"z\": 0\n",
      "                                }, \n",
      "                                \"pitch\": -20, \n",
      "                                \"yaw\": 40, \n",
      "                                \"type\": \"cameras/orbit\", \n",
      "                                \"zoom\": 10, \n",
      "                                \"zoomSensitivity\": 1.0\n",
      "                            }\n",
      "                        ], \n",
      "                        \"canvasId\": \"myCanvas002\"\n",
      "                    });\n",
      "            target[attribute] = value;\n",
      "            return target;\n",
      "        })();\n",
      "    };\n",
      "    var wait_for_libraries = function () {\n",
      "        var names = [];\n",
      "        for (var i=0; i<names.length; i++) {\n",
      "            var library = window[names[i]];\n",
      "            if ((typeof library) == \"undefined\") {\n",
      "                return window.setTimeout(wait_for_libraries, 500);\n",
      "            }\n",
      "        }\n",
      "        return do_actions();\n",
      "    };\n",
      "    wait_for_libraries();\n",
      "})();\n",
      "</script>\n",
      "\n"
     ]
    }
   ],
   "source": [
    "print(w.embedded_html())"
   ]
  },
  {
   "cell_type": "markdown",
   "metadata": {},
   "source": [
    "# More examples\n",
    "\n",
    "TBD"
   ]
  },
  {
   "cell_type": "code",
   "execution_count": null,
   "metadata": {
    "collapsed": true
   },
   "outputs": [],
   "source": []
  }
 ],
 "metadata": {
  "kernelspec": {
   "display_name": "Python 2",
   "language": "python",
   "name": "python2"
  },
  "language_info": {
   "codemirror_mode": {
    "name": "ipython",
    "version": 2
   },
   "file_extension": ".py",
   "mimetype": "text/x-python",
   "name": "python",
   "nbconvert_exporter": "python",
   "pygments_lexer": "ipython2",
   "version": "2.7.10"
  }
 },
 "nbformat": 4,
 "nbformat_minor": 0
}
