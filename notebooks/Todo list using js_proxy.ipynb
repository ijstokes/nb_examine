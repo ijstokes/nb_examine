{
 "cells": [
  {
   "cell_type": "markdown",
   "metadata": {},
   "source": [
    "# Todo list mini app using js_proxy\n",
    "\n",
    "This notebook illustrates how to use `js_proxy` widgets in combination\n",
    "with standard `ipywidgets`.\n",
    "\n",
    "It features:\n",
    "\n",
    "- A modal dialog for error feedback.\n",
    "\n",
    "- A datepicker text area.\n",
    "\n",
    "- A general callback from jQuery to the Python process (used to implement the delete button).\n",
    "\n",
    "Please see the [js_proxy examples](js_proxy%20example.ipynb) notebook for more\n",
    "information about the js_proxy widget mechanism.\n",
    "\n",
    "For more sophisticated uses, please see\n",
    "\n",
    "- The [three.js using jsproxy](three.js%20using%20js_proxy.ipynb) notebook or\n",
    "\n",
    "- The [Highcharts using jsproxy](HighCharts%20using%20js_proxy.ipynb) notebook"
   ]
  },
  {
   "cell_type": "code",
   "execution_count": null,
   "metadata": {
    "collapsed": false
   },
   "outputs": [],
   "source": [
    "# First import needed modules and javascript support\n",
    "# allow local import without install\n",
    "import sys\n",
    "if \"..\" not in sys.path:\n",
    "    sys.path.append(\"..\")\n",
    "\n",
    "from jp_gene_viz import js_proxy\n",
    "# this loads the proxy widget javascript \"view\" implementation\n",
    "js_proxy.load_javascript_support()\n",
    "from IPython.display import display\n",
    "import ipywidgets as widgets"
   ]
  },
  {
   "cell_type": "code",
   "execution_count": null,
   "metadata": {
    "collapsed": true
   },
   "outputs": [],
   "source": [
    "class ToDoApp:\n",
    "    \n",
    "    \"\"\"\n",
    "    Framework for an IPython notebook todo list which allows\n",
    "    additions and deletions to a sorted list of things to do.\n",
    "    \"\"\"\n",
    "    \n",
    "    def __init__(self):\n",
    "        \"build the widgets and assemble them into a display.\"\n",
    "        self.description_to_time = {}\n",
    "        hd = self.hour_dropdown = widgets.Dropdown(\n",
    "            options=map(str, range(24)), width=\"20px\")\n",
    "        md = self.minute_dropdown = widgets.Dropdown(\n",
    "            options=map(str, range(0, 60, 10)), width=\"20px\")\n",
    "        dp = self.date_picker = self.make_date_picker()\n",
    "        desc = self.description_text = widgets.Text()\n",
    "        dialog = self.dialog = self.make_modal_dialog()\n",
    "        b = self.add_button = widgets.Button(description=\"add\")\n",
    "        b.on_click(self.add_click)\n",
    "        td = self.todo_list_area = self.make_todo_list_area()\n",
    "        vih = self.vertical_input(\"hour\", hd)\n",
    "        vim = self.vertical_input(\"minute\", md)\n",
    "        vid = self.vertical_input(\"date\", dp)\n",
    "        videsc = self.vertical_input(\"description\", desc)\n",
    "        top = widgets.HBox(children=[vih, vim, vid, videsc, b])\n",
    "        self.assembly = widgets.VBox(children=[top, td, dialog])\n",
    "        \n",
    "    def add_click(self, b):\n",
    "        \"add a todo entry in response to a click on the 'add' button.\"\n",
    "        hour = int(self.hour_dropdown.value)\n",
    "        minute = int(self.minute_dropdown.value)\n",
    "        date = self.get_date()\n",
    "        try:\n",
    "            [dd, mm, yy] = map(int, date.split(\"/\"))\n",
    "        except Exception:\n",
    "            return self.warning(\"expect date format dd/mm/yyyy\")\n",
    "        description = self.description_text.value.strip()\n",
    "        if not description:\n",
    "            return self.warning(\"description must not be empty\")\n",
    "        timestamp = (yy, mm, dd, hour, minute)\n",
    "        self.description_to_time[description] = timestamp\n",
    "        self.format_todo_list()\n",
    "        \n",
    "    def format_todo_list(self):\n",
    "        \"Format the current list of todo items in order by timestamp.\"\n",
    "        d2t = self.description_to_time\n",
    "        list_area = self.todo_list_area\n",
    "        element = list_area.element()\n",
    "        jQuery = list_area.window().jQuery\n",
    "        list_area(element.empty())\n",
    "        if not d2t:\n",
    "            list_area(element.html(\"No todo entries remain.\"))\n",
    "        else:\n",
    "            L = sorted((d2t[d], d) for d in d2t)\n",
    "            for (t, description) in L:\n",
    "                (yy, mm, dd, hour, minute) = t\n",
    "                desc_text = \"<span>%s:%s %s/%s/%s %s &nbsp;</span>\" % (hour, minute, dd, mm, yy, description)\n",
    "                delete_callback = list_area.callback(self.delete_todo, data=description)\n",
    "                button = jQuery(\"<button>delete</button>\").click(delete_callback)\n",
    "                div = jQuery(\"<div/>\").append(desc_text).append(button)\n",
    "                list_area(element.append(div))\n",
    "        list_area.flush()\n",
    "        \n",
    "    def delete_todo(self, description, js_arguments):\n",
    "        \"handle a 'delete' callback: delete the item with the matching descriptoin and re-format.\"\n",
    "        del self.description_to_time[description]\n",
    "        self.format_todo_list()\n",
    "        \n",
    "    def vertical_input(self, label, widget):\n",
    "        \"label and input widget with label above and widget below.\"\n",
    "        h = widgets.HTML(label)\n",
    "        return widgets.VBox(children=[h, widget])\n",
    "        \n",
    "    def show(self):\n",
    "        \"Display the todo list mini-application.\"\n",
    "        display(self.assembly)\n",
    "        \n",
    "    def make_todo_list_area(self):\n",
    "        \"Make a js_proxy widget to contain the todo list.\"\n",
    "        list_area = js_proxy.ProxyWidget()\n",
    "        element = list_area.element()\n",
    "        list_area(element.html(\"No todos yet.\"))\n",
    "        list_area.flush()\n",
    "        return list_area\n",
    "        \n",
    "    def make_date_picker(self):\n",
    "        \"Make a js_proxy widget containing a date picker.\"\n",
    "        picker = js_proxy.ProxyWidget()\n",
    "        element = picker.element()\n",
    "        # use jQuery to a datepicker to the picker widget\n",
    "        # which sits on top of the notebook, in the right place.\n",
    "        jQuery = picker.window().jQuery\n",
    "        datepicker_input = (\n",
    "            jQuery('<input type=\"text\" size=20/>').\n",
    "            datepicker().\n",
    "            css(\"position\", \"relative\").\n",
    "            css(\"z-index\", \"1000\")\n",
    "        )\n",
    "        picker(element.append(datepicker_input))\n",
    "        picker.flush()\n",
    "        return picker\n",
    "    \n",
    "    def get_date(self):\n",
    "        \"Extract the date string from the date picker widget.\"\n",
    "        picker = self.date_picker\n",
    "        element = picker.element()\n",
    "        return picker.evaluate(element.children(\":first\").val())\n",
    "    \n",
    "    def make_modal_dialog(self):\n",
    "        \"Make a modal dialog as a js_proxy widget.\"\n",
    "        dialog = js_proxy.ProxyWidget()\n",
    "        element = dialog.element()\n",
    "        dialog(element.dialog({\"modal\": True}).html(\"No message yet.\").dialog(\"close\"))\n",
    "        dialog.flush()\n",
    "        return dialog\n",
    "    \n",
    "    def warning(self, message):\n",
    "        \"Warn the user of an error using the modal dialog.\"\n",
    "        dialog = self.dialog\n",
    "        element = dialog.element()\n",
    "        dialog(element.html(message).dialog(\"open\"))\n",
    "        dialog.flush()"
   ]
  },
  {
   "cell_type": "code",
   "execution_count": null,
   "metadata": {
    "collapsed": false
   },
   "outputs": [],
   "source": [
    "# Create the application object.\n",
    "app = ToDoApp()"
   ]
  },
  {
   "cell_type": "code",
   "execution_count": null,
   "metadata": {
    "collapsed": false
   },
   "outputs": [],
   "source": [
    "# Display the application interface.\n",
    "app.show()"
   ]
  },
  {
   "cell_type": "code",
   "execution_count": null,
   "metadata": {
    "collapsed": true
   },
   "outputs": [],
   "source": [
    "# Explore the application state\n",
    "from jp_gene_viz.examine import examine\n",
    "examine(app)"
   ]
  },
  {
   "cell_type": "code",
   "execution_count": null,
   "metadata": {
    "collapsed": true
   },
   "outputs": [],
   "source": []
  }
 ],
 "metadata": {
  "kernelspec": {
   "display_name": "Python 2",
   "language": "python",
   "name": "python2"
  },
  "language_info": {
   "codemirror_mode": {
    "name": "ipython",
    "version": 2
   },
   "file_extension": ".py",
   "mimetype": "text/x-python",
   "name": "python",
   "nbconvert_exporter": "python",
   "pygments_lexer": "ipython2",
   "version": "2.7.10"
  }
 },
 "nbformat": 4,
 "nbformat_minor": 0
}
